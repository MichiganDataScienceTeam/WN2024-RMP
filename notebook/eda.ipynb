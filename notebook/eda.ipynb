{
 "cells": [
  {
   "cell_type": "markdown",
   "metadata": {},
   "source": [
    "## EDA\n",
    "EDA stands for Exploratory Data Analysis. It is an approach to analyzing datasets to summarize their main characteristics, often with visual methods. EDA is used to understand the data, get a context of the data, check assumptions, and determine the appropriate statistical tool to use. It involves creating visualizations to help understand trends, patterns, and relationships within the data. It's a crucial step before any formal, detailed data analysis and helps data scientists get a sense of what the data can tell them.\n",
    "\n",
    "TODO: Conduct basic analysis on the rating and prof dataset. Come up with a few questions you would like to address. "
   ]
  },
  {
   "cell_type": "code",
   "execution_count": 1,
   "metadata": {},
   "outputs": [],
   "source": [
    "import numpy as np \n",
    "import pandas as pd\n",
    "import matplotlib.pyplot as plt \n",
    "import seaborn as sns"
   ]
  },
  {
   "cell_type": "code",
   "execution_count": 2,
   "metadata": {},
   "outputs": [],
   "source": [
    "rating = pd.read_csv(\"../data/clean_ratings.csv\")\n",
    "prof = pd.read_csv(\"../data/clean_prof_info.csv\")"
   ]
  },
  {
   "cell_type": "code",
   "execution_count": 8,
   "metadata": {},
   "outputs": [
    {
     "name": "stdout",
     "output_type": "stream",
     "text": [
      "Index(['profID', 'attendanceMandatory', 'class', 'comment', 'date',\n",
      "       'difficultyRating', 'grade', 'helpfulRating', 'isForCredit',\n",
      "       'isForOnlineClass', 'ratingTags', 'wouldTakeAgain'],\n",
      "      dtype='object')\n",
      "----------------------------------\n",
      "Index(['profID', 'avgDifficulty', 'avgRating', 'department', 'firstName',\n",
      "       'lastName', 'numRatings', 'wouldTakeAgainPercent', 'fullName'],\n",
      "      dtype='object')\n"
     ]
    }
   ],
   "source": [
    "print(rating.columns)\n",
    "print(\"----------------------------------\")\n",
    "print(prof.columns)"
   ]
  },
  {
   "cell_type": "code",
   "execution_count": null,
   "metadata": {},
   "outputs": [],
   "source": [
    "rating.head()"
   ]
  },
  {
   "cell_type": "code",
   "execution_count": null,
   "metadata": {},
   "outputs": [],
   "source": [
    "prof.head()"
   ]
  },
  {
   "cell_type": "code",
   "execution_count": null,
   "metadata": {},
   "outputs": [],
   "source": []
  }
 ],
 "metadata": {
  "kernelspec": {
   "display_name": "Python 3",
   "language": "python",
   "name": "python3"
  },
  "language_info": {
   "codemirror_mode": {
    "name": "ipython",
    "version": 3
   },
   "file_extension": ".py",
   "mimetype": "text/x-python",
   "name": "python",
   "nbconvert_exporter": "python",
   "pygments_lexer": "ipython3",
   "version": "3.10.1"
  }
 },
 "nbformat": 4,
 "nbformat_minor": 2
}
