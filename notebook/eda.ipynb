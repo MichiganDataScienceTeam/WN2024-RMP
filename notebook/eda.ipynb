{
 "cells": [
  {
   "cell_type": "markdown",
   "metadata": {},
   "source": [
    "## EDA\n",
    "EDA stands for Exploratory Data Analysis. It is an approach to analyzing datasets to summarize their main characteristics, often with visual methods. EDA is used to understand the data, get a context of the data, check assumptions, and determine the appropriate statistical tool to use. It involves creating visualizations to help understand trends, patterns, and relationships within the data. It's a crucial step before any formal, detailed data analysis and helps data scientists get a sense of what the data can tell them.\n",
    "\n",
    "TODO: Conduct basic analysis on the rating and prof dataset. Come up with a few questions you would like to address. "
   ]
  },
  {
   "cell_type": "code",
   "execution_count": 2,
   "metadata": {},
   "outputs": [],
   "source": [
    "import numpy as np \n",
    "import pandas as pd\n",
    "import matplotlib.pyplot as plt \n",
    "import seaborn as sns\n",
    "\n",
    "########### Import more libraries if needed"
   ]
  },
  {
   "cell_type": "code",
   "execution_count": 3,
   "metadata": {},
   "outputs": [],
   "source": [
    "RATING_PATH = \"../data/clean_ratings.csv\"\n",
    "PROF_PATH = \"../data/clean_prof_info.csv\"\n",
    "\n",
    "rating = pd.read_csv(RATING_PATH)\n",
    "prof = pd.read_csv(PROF_PATH)"
   ]
  },
  {
   "cell_type": "code",
   "execution_count": 4,
   "metadata": {},
   "outputs": [
    {
     "name": "stdout",
     "output_type": "stream",
     "text": [
      "Index(['profID', 'attendanceMandatory', 'class', 'comment', 'date',\n",
      "       'difficultyRating', 'grade', 'helpfulRating', 'isForCredit',\n",
      "       'isForOnlineClass', 'ratingTags', 'wouldTakeAgain'],\n",
      "      dtype='object')\n",
      "----------------------------------\n",
      "Index(['profID', 'avgDifficulty', 'avgRating', 'department', 'firstName',\n",
      "       'lastName', 'numRatings', 'wouldTakeAgainPercent', 'fullName'],\n",
      "      dtype='object')\n"
     ]
    }
   ],
   "source": [
    "print(rating.columns)\n",
    "print(\"----------------------------------\")\n",
    "print(prof.columns)"
   ]
  },
  {
   "cell_type": "code",
   "execution_count": 5,
   "metadata": {},
   "outputs": [
    {
     "data": {
      "text/html": [
       "<div>\n",
       "<style scoped>\n",
       "    .dataframe tbody tr th:only-of-type {\n",
       "        vertical-align: middle;\n",
       "    }\n",
       "\n",
       "    .dataframe tbody tr th {\n",
       "        vertical-align: top;\n",
       "    }\n",
       "\n",
       "    .dataframe thead th {\n",
       "        text-align: right;\n",
       "    }\n",
       "</style>\n",
       "<table border=\"1\" class=\"dataframe\">\n",
       "  <thead>\n",
       "    <tr style=\"text-align: right;\">\n",
       "      <th></th>\n",
       "      <th>profID</th>\n",
       "      <th>attendanceMandatory</th>\n",
       "      <th>class</th>\n",
       "      <th>comment</th>\n",
       "      <th>date</th>\n",
       "      <th>difficultyRating</th>\n",
       "      <th>grade</th>\n",
       "      <th>helpfulRating</th>\n",
       "      <th>isForCredit</th>\n",
       "      <th>isForOnlineClass</th>\n",
       "      <th>ratingTags</th>\n",
       "      <th>wouldTakeAgain</th>\n",
       "    </tr>\n",
       "  </thead>\n",
       "  <tbody>\n",
       "    <tr>\n",
       "      <th>0</th>\n",
       "      <td>7964</td>\n",
       "      <td>False</td>\n",
       "      <td>ANTHRCUL101</td>\n",
       "      <td>Fricke is the man. Entire class probably took ...</td>\n",
       "      <td>2019-04-28 17:13:12</td>\n",
       "      <td>1.0</td>\n",
       "      <td>A</td>\n",
       "      <td>5.0</td>\n",
       "      <td>False</td>\n",
       "      <td>False</td>\n",
       "      <td>['Respected', 'Inspirational', 'Amazing Lectur...</td>\n",
       "      <td>True</td>\n",
       "    </tr>\n",
       "    <tr>\n",
       "      <th>1</th>\n",
       "      <td>7964</td>\n",
       "      <td>False</td>\n",
       "      <td>ANTHRO101</td>\n",
       "      <td>Tom Fricke is one of those professors you will...</td>\n",
       "      <td>2019-01-08 18:41:24</td>\n",
       "      <td>1.0</td>\n",
       "      <td>A+</td>\n",
       "      <td>5.0</td>\n",
       "      <td>False</td>\n",
       "      <td>False</td>\n",
       "      <td>['Accessible Outside Class', 'Hilarious', 'Ama...</td>\n",
       "      <td>True</td>\n",
       "    </tr>\n",
       "    <tr>\n",
       "      <th>2</th>\n",
       "      <td>7964</td>\n",
       "      <td>False</td>\n",
       "      <td>ANTHRCUL101</td>\n",
       "      <td>Prof. Fricke is amazing. He is hilarious and t...</td>\n",
       "      <td>2018-12-16 03:11:18</td>\n",
       "      <td>1.0</td>\n",
       "      <td>A</td>\n",
       "      <td>5.0</td>\n",
       "      <td>False</td>\n",
       "      <td>False</td>\n",
       "      <td>['Hilarious', 'Graded By Few Things', 'Caring']</td>\n",
       "      <td>True</td>\n",
       "    </tr>\n",
       "    <tr>\n",
       "      <th>3</th>\n",
       "      <td>7964</td>\n",
       "      <td>False</td>\n",
       "      <td>CULTANTHRO101</td>\n",
       "      <td>Such an easy class. Exams were exactly like th...</td>\n",
       "      <td>2018-12-12 10:03:19</td>\n",
       "      <td>1.0</td>\n",
       "      <td>A</td>\n",
       "      <td>5.0</td>\n",
       "      <td>False</td>\n",
       "      <td>False</td>\n",
       "      <td>['Accessible Outside Class', 'Graded By Few Th...</td>\n",
       "      <td>True</td>\n",
       "    </tr>\n",
       "    <tr>\n",
       "      <th>4</th>\n",
       "      <td>7964</td>\n",
       "      <td>False</td>\n",
       "      <td>ANTHRCUL101</td>\n",
       "      <td>Easiest class i have taken at UM. The exams to...</td>\n",
       "      <td>2018-12-11 16:33:00</td>\n",
       "      <td>1.0</td>\n",
       "      <td>A+</td>\n",
       "      <td>5.0</td>\n",
       "      <td>False</td>\n",
       "      <td>False</td>\n",
       "      <td>['Respected', 'Hilarious', 'Amazing Lectures']</td>\n",
       "      <td>True</td>\n",
       "    </tr>\n",
       "  </tbody>\n",
       "</table>\n",
       "</div>"
      ],
      "text/plain": [
       "   profID  attendanceMandatory          class  \\\n",
       "0    7964                False    ANTHRCUL101   \n",
       "1    7964                False      ANTHRO101   \n",
       "2    7964                False    ANTHRCUL101   \n",
       "3    7964                False  CULTANTHRO101   \n",
       "4    7964                False    ANTHRCUL101   \n",
       "\n",
       "                                             comment                 date  \\\n",
       "0  Fricke is the man. Entire class probably took ...  2019-04-28 17:13:12   \n",
       "1  Tom Fricke is one of those professors you will...  2019-01-08 18:41:24   \n",
       "2  Prof. Fricke is amazing. He is hilarious and t...  2018-12-16 03:11:18   \n",
       "3  Such an easy class. Exams were exactly like th...  2018-12-12 10:03:19   \n",
       "4  Easiest class i have taken at UM. The exams to...  2018-12-11 16:33:00   \n",
       "\n",
       "   difficultyRating grade  helpfulRating  isForCredit  isForOnlineClass  \\\n",
       "0               1.0     A            5.0        False             False   \n",
       "1               1.0    A+            5.0        False             False   \n",
       "2               1.0     A            5.0        False             False   \n",
       "3               1.0     A            5.0        False             False   \n",
       "4               1.0    A+            5.0        False             False   \n",
       "\n",
       "                                          ratingTags  wouldTakeAgain  \n",
       "0  ['Respected', 'Inspirational', 'Amazing Lectur...            True  \n",
       "1  ['Accessible Outside Class', 'Hilarious', 'Ama...            True  \n",
       "2    ['Hilarious', 'Graded By Few Things', 'Caring']            True  \n",
       "3  ['Accessible Outside Class', 'Graded By Few Th...            True  \n",
       "4     ['Respected', 'Hilarious', 'Amazing Lectures']            True  "
      ]
     },
     "execution_count": 5,
     "metadata": {},
     "output_type": "execute_result"
    }
   ],
   "source": [
    "rating.head()"
   ]
  },
  {
   "cell_type": "code",
   "execution_count": 6,
   "metadata": {},
   "outputs": [
    {
     "data": {
      "text/html": [
       "<div>\n",
       "<style scoped>\n",
       "    .dataframe tbody tr th:only-of-type {\n",
       "        vertical-align: middle;\n",
       "    }\n",
       "\n",
       "    .dataframe tbody tr th {\n",
       "        vertical-align: top;\n",
       "    }\n",
       "\n",
       "    .dataframe thead th {\n",
       "        text-align: right;\n",
       "    }\n",
       "</style>\n",
       "<table border=\"1\" class=\"dataframe\">\n",
       "  <thead>\n",
       "    <tr style=\"text-align: right;\">\n",
       "      <th></th>\n",
       "      <th>profID</th>\n",
       "      <th>avgDifficulty</th>\n",
       "      <th>avgRating</th>\n",
       "      <th>department</th>\n",
       "      <th>firstName</th>\n",
       "      <th>lastName</th>\n",
       "      <th>numRatings</th>\n",
       "      <th>wouldTakeAgainPercent</th>\n",
       "      <th>fullName</th>\n",
       "    </tr>\n",
       "  </thead>\n",
       "  <tbody>\n",
       "    <tr>\n",
       "      <th>0</th>\n",
       "      <td>7775</td>\n",
       "      <td>2.3</td>\n",
       "      <td>4.4</td>\n",
       "      <td>Mechanical Engineering</td>\n",
       "      <td>Alan</td>\n",
       "      <td>Wineman</td>\n",
       "      <td>34</td>\n",
       "      <td>80.0</td>\n",
       "      <td>Alan Wineman</td>\n",
       "    </tr>\n",
       "    <tr>\n",
       "      <th>1</th>\n",
       "      <td>7964</td>\n",
       "      <td>1.6</td>\n",
       "      <td>4.5</td>\n",
       "      <td>Anthropology</td>\n",
       "      <td>Thomas</td>\n",
       "      <td>Fricke</td>\n",
       "      <td>114</td>\n",
       "      <td>95.0</td>\n",
       "      <td>Thomas Fricke</td>\n",
       "    </tr>\n",
       "    <tr>\n",
       "      <th>2</th>\n",
       "      <td>8045</td>\n",
       "      <td>2.6</td>\n",
       "      <td>3.2</td>\n",
       "      <td>Biology</td>\n",
       "      <td>Julian</td>\n",
       "      <td>Adams</td>\n",
       "      <td>22</td>\n",
       "      <td>NaN</td>\n",
       "      <td>Julian Adams</td>\n",
       "    </tr>\n",
       "    <tr>\n",
       "      <th>3</th>\n",
       "      <td>8189</td>\n",
       "      <td>3.1</td>\n",
       "      <td>4.6</td>\n",
       "      <td>Music</td>\n",
       "      <td>Deborah</td>\n",
       "      <td>Chodacki</td>\n",
       "      <td>8</td>\n",
       "      <td>NaN</td>\n",
       "      <td>Deborah Chodacki</td>\n",
       "    </tr>\n",
       "    <tr>\n",
       "      <th>4</th>\n",
       "      <td>10260</td>\n",
       "      <td>4.0</td>\n",
       "      <td>2.3</td>\n",
       "      <td>Political Science</td>\n",
       "      <td>Arlene</td>\n",
       "      <td>Saxonhouse</td>\n",
       "      <td>86</td>\n",
       "      <td>66.0</td>\n",
       "      <td>Arlene Saxonhouse</td>\n",
       "    </tr>\n",
       "  </tbody>\n",
       "</table>\n",
       "</div>"
      ],
      "text/plain": [
       "   profID  avgDifficulty  avgRating              department firstName  \\\n",
       "0    7775            2.3        4.4  Mechanical Engineering      Alan   \n",
       "1    7964            1.6        4.5            Anthropology    Thomas   \n",
       "2    8045            2.6        3.2                 Biology    Julian   \n",
       "3    8189            3.1        4.6                   Music   Deborah   \n",
       "4   10260            4.0        2.3       Political Science    Arlene   \n",
       "\n",
       "     lastName  numRatings  wouldTakeAgainPercent           fullName  \n",
       "0     Wineman          34                   80.0       Alan Wineman  \n",
       "1      Fricke         114                   95.0      Thomas Fricke  \n",
       "2       Adams          22                    NaN       Julian Adams  \n",
       "3    Chodacki           8                    NaN   Deborah Chodacki  \n",
       "4  Saxonhouse          86                   66.0  Arlene Saxonhouse  "
      ]
     },
     "execution_count": 6,
     "metadata": {},
     "output_type": "execute_result"
    }
   ],
   "source": [
    "prof.head()"
   ]
  },
  {
   "cell_type": "code",
   "execution_count": null,
   "metadata": {},
   "outputs": [],
   "source": []
  },
  {
   "cell_type": "code",
   "execution_count": 16,
   "metadata": {},
   "outputs": [
    {
     "data": {
      "text/plain": [
       "False    64\n",
       "True     54\n",
       "Name: wouldTakeAgain, dtype: int64"
      ]
     },
     "execution_count": 16,
     "metadata": {},
     "output_type": "execute_result"
    }
   ],
   "source": [
    "eecs376 = rating[rating[\"class\"]== \"EECS376\"]\n",
    "#eecs376[\"comment\"].tolist()\n",
    "eecs376.wouldTakeAgain.value_counts()\n",
    "\n"
   ]
  },
  {
   "cell_type": "code",
   "execution_count": 31,
   "metadata": {},
   "outputs": [
    {
     "name": "stderr",
     "output_type": "stream",
     "text": [
      "/var/folders/qf/zb461w1x2pn3k9lkmtq41d2m0000gn/T/ipykernel_24588/2000210623.py:1: FutureWarning: Indexing with multiple keys (implicitly converted to a tuple of keys) will be deprecated, use a list instead.\n",
      "  courses = rating.groupby(\"class\")[\"wouldTakeAgain\", \"difficultyRating\"].mean()\n"
     ]
    },
    {
     "data": {
      "text/plain": [
       "Text(0, 0.5, 'Would Take Again Percentage')"
      ]
     },
     "execution_count": 31,
     "metadata": {},
     "output_type": "execute_result"
    },
    {
     "data": {
      "image/png": "[encoded data removed]",
      "text/plain": [
       "<Figure size 432x288 with 1 Axes>"
      ]
     },
     "metadata": {
      "needs_background": "light"
     },
     "output_type": "display_data"
    }
   ],
   "source": [
    "courses = rating.groupby(\"class\")[\"wouldTakeAgain\", \"difficultyRating\"].mean()\n",
    "plt.scatter(x=courses[\"difficultyRating\"], y=courses[\"wouldTakeAgain\"], color=\"orange\")\n",
    "plt.title(\"Course Difficulty and Would Take Again Percentage\")\n",
    "plt.xlabel(\"Average Course Difficulty 1 - 5\")\n",
    "plt.ylabel(\"Would Take Again Percentage\")"
   ]
  },
  {
   "cell_type": "code",
   "execution_count": null,
   "metadata": {},
   "outputs": [],
   "source": []
  }
 ],
 "metadata": {
  "kernelspec": {
   "display_name": "Python 3",
   "language": "python",
   "name": "python3"
  },
  "language_info": {
   "codemirror_mode": {
    "name": "ipython",
    "version": 3
   },
   "file_extension": ".py",
   "mimetype": "text/x-python",
   "name": "python",
   "nbconvert_exporter": "python",
   "pygments_lexer": "ipython3",
   "version": "3.10.1"
  }
 },
 "nbformat": 4,
 "nbformat_minor": 2
}
