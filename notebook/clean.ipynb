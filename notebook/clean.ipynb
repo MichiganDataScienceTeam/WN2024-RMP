{
 "cells": [
  {
   "cell_type": "code",
   "execution_count": 8,
   "metadata": {},
   "outputs": [],
   "source": [
    "import pandas as pd\n",
    "\n",
    "course_review_emotion = pd.read_csv(\"../data/course_review_emotion.csv\")\n",
    "course_review_polarity = pd.read_csv(\"../data/course_review_polarity.csv\")\n",
    "course_review_emotion = course_review_emotion[course_review_emotion['comment'] != 'No Comments']\n",
    "course_review_polarity = course_review_polarity[course_review_polarity['comment'] != 'No Comments']"
   ]
  },
  {
   "cell_type": "code",
   "execution_count": 9,
   "metadata": {},
   "outputs": [],
   "source": [
    "course_review_emotion.to_csv(\"../data/course_review_emotion.csv\", index=False)\n",
    "course_review_polarity.to_csv(\"../data/course_review_polarity.csv\", index=False)\n",
    "\n"
   ]
  },
  {
   "cell_type": "markdown",
   "metadata": {},
   "source": [
    "Merge Emotion and polarity"
   ]
  },
  {
   "cell_type": "code",
   "execution_count": 10,
   "metadata": {},
   "outputs": [],
   "source": [
    "merged = course_review_polarity.merge(course_review_emotion[['emotion1', 'emotion2', 'emotion3']], left_index=True, right_index=True)\n",
    "merged.to_csv(\"../data/course_review_polarity_emotion_merged.csv\", index=False)"
   ]
  },
  {
   "cell_type": "code",
   "execution_count": null,
   "metadata": {},
   "outputs": [],
   "source": []
  }
 ],
 "metadata": {
  "kernelspec": {
   "display_name": "Python 3",
   "language": "python",
   "name": "python3"
  },
  "language_info": {
   "codemirror_mode": {
    "name": "ipython",
    "version": 3
   },
   "file_extension": ".py",
   "mimetype": "text/x-python",
   "name": "python",
   "nbconvert_exporter": "python",
   "pygments_lexer": "ipython3",
   "version": "3.10.1"
  }
 },
 "nbformat": 4,
 "nbformat_minor": 2
}
