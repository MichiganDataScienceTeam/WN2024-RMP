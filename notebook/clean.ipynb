{
 "cells": [
  {
   "cell_type": "code",
   "execution_count": 1,
   "metadata": {},
   "outputs": [
    {
     "name": "stderr",
     "output_type": "stream",
     "text": [
      "/var/folders/z5/9gjl9r3j0f35rrfdhrnry3sr0000gn/T/ipykernel_5052/49366592.py:1: DeprecationWarning: \n",
      "Pyarrow will become a required dependency of pandas in the next major release of pandas (pandas 3.0),\n",
      "(to allow more performant data types, such as the Arrow string type, and better interoperability with other libraries)\n",
      "but was not found to be installed on your system.\n",
      "If this would cause problems for you,\n",
      "please provide us feedback at https://github.com/pandas-dev/pandas/issues/54466\n",
      "        \n",
      "  import pandas as pd\n"
     ]
    }
   ],
   "source": [
    "import pandas as pd\n",
    "\n",
    "course_review_emotion = pd.read_csv(\"../data/course_review_emotion.csv\")\n",
    "course_review_polarity = pd.read_csv(\"../data/course_review_polarity.csv\")\n",
    "course_review_emotion = course_review_emotion[course_review_emotion['comment'] != 'No Comments']\n",
    "course_review_polarity = course_review_polarity[course_review_polarity['comment'] != 'No Comments']"
   ]
  },
  {
   "cell_type": "code",
   "execution_count": 2,
   "metadata": {},
   "outputs": [],
   "source": [
    "course_review_emotion.to_csv(\"../data/course_review_emotion.csv\", index=False)\n",
    "course_review_polarity.to_csv(\"../data/course_review_polarity.csv\", index=False)\n",
    "\n"
   ]
  },
  {
   "cell_type": "markdown",
   "metadata": {},
   "source": [
    "Merge Emotion and polarity"
   ]
  },
  {
   "cell_type": "code",
   "execution_count": 3,
   "metadata": {},
   "outputs": [],
   "source": [
    "merged = course_review_polarity.merge(course_review_emotion[['emotion1', 'emotion2', 'emotion3']], left_index=True, right_index=True)\n",
    "merged.to_csv(\"../data/course_review_polarity_emotion_merged.csv\", index=False)"
   ]
  },
  {
   "cell_type": "code",
   "execution_count": 4,
   "metadata": {},
   "outputs": [
    {
     "data": {
      "text/plain": [
       "0        {'label': 'NEGATIVE', 'score': 0.9982315897941...\n",
       "1        {'label': 'POSITIVE', 'score': 0.9996259212493...\n",
       "2        {'label': 'POSITIVE', 'score': 0.9993315935134...\n",
       "3        {'label': 'POSITIVE', 'score': 0.9967494010925...\n",
       "4        {'label': 'POSITIVE', 'score': 0.9996769428253...\n",
       "                               ...                        \n",
       "50674    {'label': 'POSITIVE', 'score': 0.9991012811660...\n",
       "50675    {'label': 'POSITIVE', 'score': 0.999809205532074}\n",
       "50676    {'label': 'POSITIVE', 'score': 0.9971089959144...\n",
       "50677    {'label': 'POSITIVE', 'score': 0.9994953870773...\n",
       "50678    {'label': 'POSITIVE', 'score': 0.9992496371269...\n",
       "Name: polarity_score, Length: 50679, dtype: object"
      ]
     },
     "execution_count": 4,
     "metadata": {},
     "output_type": "execute_result"
    }
   ],
   "source": [
    "check1= pd.read_csv(\"../data/course_review_polarity_emotion_merged.csv\")\n",
    "check1['polarity_score']"
   ]
  },
  {
   "cell_type": "code",
   "execution_count": 5,
   "metadata": {},
   "outputs": [],
   "source": [
    "import json\n",
    "\n",
    "polarity_csv = pd.read_csv(\"../data/course_review_polarity_emotion_merged.csv\")\n",
    "\n",
    "polarity_csv['polarity_score'] = polarity_csv[\"polarity_score\"].apply(lambda s: s.replace(\"'\", '\"'),).apply(json.loads)\n",
    "\n",
    "for index, row in polarity_csv.iterrows():\n",
    "    polarity_csv.at[index, 'polarity_score'] = 2 * row['polarity_score']['score'] - 1 if row['polarity_score']['label'] == \"POSITIVE\" else -2 * row['polarity_score']['score'] + 1\n",
    "\n",
    "polarity_csv.to_csv(\"../data/course_review_polarity_emotion_merged.csv\", index=False)"
   ]
  },
  {
   "cell_type": "code",
   "execution_count": 6,
   "metadata": {},
   "outputs": [
    {
     "data": {
      "text/plain": [
       "<Axes: ylabel='Frequency'>"
      ]
     },
     "execution_count": 6,
     "metadata": {},
     "output_type": "execute_result"
    },
    {
     "data": {
      "image/png": "[encoded data removed]",
      "text/plain": [
       "<Figure size 640x480 with 1 Axes>"
      ]
     },
     "metadata": {},
     "output_type": "display_data"
    }
   ],
   "source": [
    "\n",
    "check2 = pd.read_csv(\"../data/course_review_polarity_emotion_merged.csv\")\n",
    "check2['polarity_score'].plot.hist()"
   ]
  },
  {
   "cell_type": "code",
   "execution_count": null,
   "metadata": {},
   "outputs": [],
   "source": []
  }
 ],
 "metadata": {
  "kernelspec": {
   "display_name": "Python 3",
   "language": "python",
   "name": "python3"
  },
  "language_info": {
   "codemirror_mode": {
    "name": "ipython",
    "version": 3
   },
   "file_extension": ".py",
   "mimetype": "text/x-python",
   "name": "python",
   "nbconvert_exporter": "python",
   "pygments_lexer": "ipython3",
   "version": "3.11.5"
  }
 },
 "nbformat": 4,
 "nbformat_minor": 2
}
