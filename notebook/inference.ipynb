{
 "cells": [
  {
   "cell_type": "markdown",
   "metadata": {},
   "source": [
    "# Running Mass Inference on RMP Dataset"
   ]
  },
  {
   "cell_type": "code",
   "execution_count": 1,
   "metadata": {},
   "outputs": [],
   "source": [
    "from transformers import pipeline\n",
    "import pandas as pd\n",
    "import numpy as np"
   ]
  },
  {
   "cell_type": "markdown",
   "metadata": {},
   "source": [
    "Downloading and using the models through the Pipline API. Running three types of NLP tasks:\n",
    "1. Polarity Score\n",
    "2. Emotions\n",
    "3. Summarizations.\n",
    "\n",
    "Storing them in three seperate csv files:\n",
    "For polarity score, each course review will receive a score. \n",
    "For emotions, each course review will receive a top 3 emotion\n",
    "For summarizations, each course will get a summarized result of all its comments. "
   ]
  },
  {
   "cell_type": "code",
   "execution_count": 5,
   "metadata": {},
   "outputs": [],
   "source": [
    "polarity_score_predictor = pipeline(model=\"distilbert-base-uncased-finetuned-sst-2-english\", task=\"sentiment-analysis\")\n",
    "emotion_predictor = pipeline(model=\"SamLowe/roberta-base-go_emotions\", task=\"text-classification\", top_k=3)\n",
    "summarizer = pipeline(model=\"facebook/bart-large-cnn\", task=\"summarization\")\n",
    "\n"
   ]
  },
  {
   "cell_type": "code",
   "execution_count": 2,
   "metadata": {},
   "outputs": [],
   "source": [
    "RATING_PATH = \"../data/clean_ratings.csv\"\n",
    "PROF_PATH = \"../data/clean_prof_info.csv\"\n",
    "\n",
    "rating = pd.read_csv(RATING_PATH)\n",
    "prof = pd.read_csv(PROF_PATH)"
   ]
  },
  {
   "cell_type": "markdown",
   "metadata": {},
   "source": [
    "Running sentiment polarity score prediction on all 50k+ course reviews. "
   ]
  },
  {
   "cell_type": "code",
   "execution_count": null,
   "metadata": {},
   "outputs": [],
   "source": [
    "rating[\"polarity_score\"]=polarity_score_predictor(rating[\"comment\"].tolist())"
   ]
  },
  {
   "cell_type": "code",
   "execution_count": 19,
   "metadata": {},
   "outputs": [],
   "source": [
    "polarity_dataset = rating[[\"class\", \"comment\", \"polarity_score\"]]\n",
    "polarity_dataset.to_csv(\"../data/course_review_polarity.csv\")"
   ]
  },
  {
   "cell_type": "markdown",
   "metadata": {},
   "source": []
  },
  {
   "cell_type": "code",
   "execution_count": null,
   "metadata": {},
   "outputs": [],
   "source": []
  }
 ],
 "metadata": {
  "kernelspec": {
   "display_name": "Python 3",
   "language": "python",
   "name": "python3"
  },
  "language_info": {
   "codemirror_mode": {
    "name": "ipython",
    "version": 3
   },
   "file_extension": ".py",
   "mimetype": "text/x-python",
   "name": "python",
   "nbconvert_exporter": "python",
   "pygments_lexer": "ipython3",
   "version": "3.10.1"
  }
 },
 "nbformat": 4,
 "nbformat_minor": 2
}
